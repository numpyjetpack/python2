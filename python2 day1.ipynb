{
 "cells": [
  {
   "cell_type": "code",
   "execution_count": 26,
   "id": "168dca9f-25cd-4df8-9d0b-88c1630ae90b",
   "metadata": {},
   "outputs": [
    {
     "name": "stdin",
     "output_type": "stream",
     "text": [
      "Enter a number 12\n"
     ]
    },
    {
     "name": "stdout",
     "output_type": "stream",
     "text": [
      "Result square: 144.0\n"
     ]
    }
   ],
   "source": [
    "def square(n):\n",
    "    return n**2\n",
    "\n",
    "user_input = float(input(\"Enter a number\"))\n",
    "print (f'Result square: {square(user_input)}')"
   ]
  },
  {
   "cell_type": "code",
   "execution_count": 11,
   "id": "52e8a96b-d564-43a4-8072-7fe5c1432286",
   "metadata": {},
   "outputs": [
    {
     "data": {
      "text/plain": [
       "25"
      ]
     },
     "execution_count": 11,
     "metadata": {},
     "output_type": "execute_result"
    }
   ],
   "source": [
    "g = lambda x:x**2\n",
    "g(5)"
   ]
  },
  {
   "cell_type": "code",
   "execution_count": 13,
   "id": "0e0126c3-3d3d-49e1-ac12-dc2ae8932117",
   "metadata": {},
   "outputs": [
    {
     "data": {
      "text/plain": [
       "10"
      ]
     },
     "execution_count": 13,
     "metadata": {},
     "output_type": "execute_result"
    }
   ],
   "source": [
    "def sum(a,b):\n",
    "    return a+b\n",
    "\n",
    "sum(8,2)"
   ]
  },
  {
   "cell_type": "code",
   "execution_count": 15,
   "id": "b22eaffb-946c-4279-af12-29cb97c46266",
   "metadata": {},
   "outputs": [
    {
     "data": {
      "text/plain": [
       "10"
      ]
     },
     "execution_count": 15,
     "metadata": {},
     "output_type": "execute_result"
    }
   ],
   "source": [
    "sum2 = lambda a,b: a+b\n",
    "\n",
    "sum2(8,2)"
   ]
  },
  {
   "cell_type": "code",
   "execution_count": 17,
   "id": "549e0540-7262-4fde-94f7-e9b4ea08e074",
   "metadata": {},
   "outputs": [
    {
     "data": {
      "text/plain": [
       "12"
      ]
     },
     "execution_count": 17,
     "metadata": {},
     "output_type": "execute_result"
    }
   ],
   "source": [
    "mult = lambda a,b: a*b\n",
    "\n",
    "mult (3,4)"
   ]
  },
  {
   "cell_type": "code",
   "execution_count": 23,
   "id": "b6e93809-ccc2-4948-a989-5928a936c9ff",
   "metadata": {},
   "outputs": [
    {
     "data": {
      "text/plain": [
       "[2, 4, 6, 8]"
      ]
     },
     "execution_count": 23,
     "metadata": {},
     "output_type": "execute_result"
    }
   ],
   "source": [
    "lst = [1,2,3,4,5,6,7,8,9]\n",
    "\n",
    "def even_nums(l):\n",
    "    results = []\n",
    "    for item in l:\n",
    "        if item%2==0:\n",
    "            results.append(item)\n",
    "    return results\n",
    "\n",
    "even_nums(lst)"
   ]
  },
  {
   "cell_type": "code",
   "execution_count": 33,
   "id": "0e949482-37b1-4ad0-83f9-aa8d0f7197d9",
   "metadata": {},
   "outputs": [
    {
     "data": {
      "text/plain": [
       "[2, 4, 6, 8]"
      ]
     },
     "execution_count": 33,
     "metadata": {},
     "output_type": "execute_result"
    }
   ],
   "source": [
    "evens = filter(lambda x:x%2==0,lst)\n",
    "\n",
    "list(evens)"
   ]
  },
  {
   "cell_type": "code",
   "execution_count": 35,
   "id": "5fa9e071-37a3-4850-9de9-9cedd3bd5e21",
   "metadata": {},
   "outputs": [
    {
     "data": {
      "text/plain": [
       "[1, 3, 5, 7, 9]"
      ]
     },
     "execution_count": 35,
     "metadata": {},
     "output_type": "execute_result"
    }
   ],
   "source": [
    "odds = filter(lambda x:x%2==1,lst)\n",
    "\n",
    "list(odds)"
   ]
  },
  {
   "cell_type": "code",
   "execution_count": 37,
   "id": "cb1344d0-9bfc-450d-bc00-b7cac5b9cc20",
   "metadata": {},
   "outputs": [
    {
     "data": {
      "text/plain": [
       "[5, 6, 7, 8, 9]"
      ]
     },
     "execution_count": 37,
     "metadata": {},
     "output_type": "execute_result"
    }
   ],
   "source": [
    "bigs = filter(lambda x:x>=5,lst)\n",
    "\n",
    "list (bigs)"
   ]
  },
  {
   "cell_type": "code",
   "execution_count": 46,
   "id": "79ac83b8-18e1-4f7a-acbb-a55abfc8e4fe",
   "metadata": {},
   "outputs": [
    {
     "data": {
      "text/plain": [
       "[5, 6, 7, 8, 9]"
      ]
     },
     "execution_count": 46,
     "metadata": {},
     "output_type": "execute_result"
    }
   ],
   "source": [
    "def gt5(l):\n",
    "    result = []\n",
    "    for i in l:\n",
    "            if i >=5:\n",
    "                result.append(i)\n",
    "    \n",
    "    return result\n",
    "\n",
    "gt5 (lst)"
   ]
  },
  {
   "cell_type": "code",
   "execution_count": 48,
   "id": "5043857e-d709-4e28-b183-03476ad92e23",
   "metadata": {},
   "outputs": [
    {
     "name": "stdout",
     "output_type": "stream",
     "text": [
      "[1, 2, 3, 4, 5, 6, 7, 8, 9]\n"
     ]
    },
    {
     "data": {
      "text/plain": [
       "[1, 4, 9, 16, 25, 36, 49, 64, 81]"
      ]
     },
     "execution_count": 48,
     "metadata": {},
     "output_type": "execute_result"
    }
   ],
   "source": [
    "print (lst)\n",
    "square_list = list(map(lambda item: item**2, lst))\n",
    "\n",
    "square_list"
   ]
  },
  {
   "cell_type": "code",
   "execution_count": 50,
   "id": "e5d00342-604a-4989-b4da-b8dcaeafa9d1",
   "metadata": {},
   "outputs": [
    {
     "data": {
      "text/plain": [
       "20"
      ]
     },
     "execution_count": 50,
     "metadata": {},
     "output_type": "execute_result"
    }
   ],
   "source": [
    "from functools import reduce\n",
    "lst2 = [2,4,6,8]\n",
    "reduce (lambda a,b: a+b, lst2)"
   ]
  },
  {
   "cell_type": "code",
   "execution_count": 71,
   "id": "7f69caae-8beb-4d7f-8aba-1a097bad338b",
   "metadata": {},
   "outputs": [
    {
     "name": "stdout",
     "output_type": "stream",
     "text": [
      "[3, 6, 9]\n"
     ]
    }
   ],
   "source": [
    "lst = [1,2,3,4,5,6,7,8,9]\n",
    "\n",
    "multiplesofthree = filter(lambda a: a%3==0, lst)\n",
    "\n",
    "print(f'{list(multiplesofthree)}')"
   ]
  },
  {
   "cell_type": "code",
   "execution_count": 75,
   "id": "40b79f69-ea2e-4a88-b645-e6ce494a7eec",
   "metadata": {},
   "outputs": [
    {
     "name": "stdout",
     "output_type": "stream",
     "text": [
      "['$1', '$2', '$3', '$4', '$5', '$6', '$7', '$8', '$9']\n"
     ]
    }
   ],
   "source": [
    "dollars = map(lambda a: f'${a}', lst)\n",
    "\n",
    "print(f'{list(dollars)}')"
   ]
  },
  {
   "cell_type": "code",
   "execution_count": 81,
   "id": "2d1f18d8-69f5-451b-9fbf-62b2e2243f5b",
   "metadata": {},
   "outputs": [
    {
     "name": "stdout",
     "output_type": "stream",
     "text": [
      "['$1.07', '$2.14', '$3.21', '$4.28', '$5.35', '$6.42', '$7.49', '$8.56', '$9.63']\n"
     ]
    }
   ],
   "source": [
    "gst7 = map(lambda a: f'${a*1.07:.2f}', lst)\n",
    "\n",
    "print(f'{list(gst7)}')"
   ]
  },
  {
   "cell_type": "code",
   "execution_count": 93,
   "id": "2d4fe75a-a8f9-4606-9b9f-c79ddca39d11",
   "metadata": {},
   "outputs": [
    {
     "name": "stdout",
     "output_type": "stream",
     "text": [
      "['$1.00', '$2.00', '$3.00', '$4.00', '$5.00', '$6.42', '$7.49', '$8.56', '$9.63']\n"
     ]
    }
   ],
   "source": [
    "gstwas7 = map(lambda a: f'${a*1.07:.2f}' if a>5 else f'${a:.2f}', lst)\n",
    "\n",
    "print(f'{list(gstwas7)}')"
   ]
  },
  {
   "cell_type": "code",
   "execution_count": 95,
   "id": "6cadb169-7de8-41ab-bb7f-58a92f9ed77c",
   "metadata": {},
   "outputs": [
    {
     "data": {
      "text/plain": [
       "('Jane', 'Tan')"
      ]
     },
     "execution_count": 95,
     "metadata": {},
     "output_type": "execute_result"
    }
   ],
   "source": [
    "class Employee:\n",
    "    def __init__(self, first_name, last_name, emp_number):\n",
    "        self._first_name = first_name\n",
    "        self._last_name = last_name\n",
    "        self._emp_number = emp_number\n",
    "\n",
    "#create employee objects\n",
    "emp1 = Employee(\"Jane\", \"Tan\", \"M0123\")\n",
    "emp1._first_name, emp1._last_name"
   ]
  },
  {
   "cell_type": "code",
   "execution_count": 125,
   "id": "d58a4c9a-99fd-4363-bc78-312526414fdd",
   "metadata": {},
   "outputs": [
    {
     "data": {
      "text/plain": [
       "'M0789'"
      ]
     },
     "execution_count": 125,
     "metadata": {},
     "output_type": "execute_result"
    }
   ],
   "source": [
    "class Employee:\n",
    "    def __init__(self, first_name, last_name, emp_number):\n",
    "        self._first_name = first_name\n",
    "        self._last_name = last_name\n",
    "        self._emp_number = emp_number\n",
    "\n",
    "    #getters\n",
    "    @property\n",
    "    def first_name(self):\n",
    "        return self._first_name\n",
    "    \n",
    "    @property\n",
    "    def last_name(self):\n",
    "        return self._last_name\n",
    "    \n",
    "    @property\n",
    "    def emp_number(self):\n",
    "        return self._emp_number\n",
    "    \n",
    "    #setters\n",
    "    @first_name.setter\n",
    "    def first_name(self, newName):\n",
    "        self._first_name = newName\n",
    "    \n",
    "    @last_name.setter\n",
    "    def last_name(self, newName):\n",
    "        self._last_name = newName\n",
    "    \n",
    "    @emp_number.setter\n",
    "    def emp_number(self, newNumber):\n",
    "        self._emp_number = newNumber\n",
    "\n",
    "\n",
    "\n",
    "emp1 = Employee(\"Jane\", \"Tan\", \"M0123\")\n",
    "emp2 = Employee(\"Andy\", \"Ng\", \"M0456\")\n",
    "emp3 = Employee(\"Xiao Ming\", \"Lim\", \"M0789\")\n",
    "\n",
    "emp3.emp_number"
   ]
  },
  {
   "cell_type": "code",
   "execution_count": 129,
   "id": "65caa142-98b0-4fd2-a549-4418b6c002f8",
   "metadata": {},
   "outputs": [
    {
     "name": "stdout",
     "output_type": "stream",
     "text": [
      "0 1 1 2 3 5 8 "
     ]
    }
   ],
   "source": [
    "class Fib:\n",
    "    def __init__ (self, max):\n",
    "        self.max = max\n",
    "        self.a = 0\n",
    "        self.b = 1\n",
    "    def __iter__ (self):\n",
    "        return self\n",
    "    def __next__ (self):\n",
    "        fib = self.a\n",
    "        if fib > self.max:\n",
    "            raise StopIteration\n",
    "        self.a, self.b = self.b, self.a + self.b\n",
    "        return fib\n",
    "    \n",
    "for i in Fib(10):\n",
    "    print (i, end=\" \")\n"
   ]
  },
  {
   "cell_type": "code",
   "execution_count": 131,
   "id": "ca5046b2-4a34-4200-af23-0cc4dd7cfc5f",
   "metadata": {},
   "outputs": [
    {
     "name": "stdout",
     "output_type": "stream",
     "text": [
      "p ***\n",
      "y ***\n",
      "t ***\n",
      "h ***\n",
      "o ***\n",
      "n ***\n"
     ]
    }
   ],
   "source": [
    "s=\"python\"\n",
    "for c in s:\n",
    "    print (c, \"***\")"
   ]
  },
  {
   "cell_type": "code",
   "execution_count": 133,
   "id": "c3330317-7936-41cc-bc5b-9e8ae6da3f71",
   "metadata": {},
   "outputs": [
    {
     "name": "stdout",
     "output_type": "stream",
     "text": [
      "1\n",
      "2\n",
      "3\n",
      "4\n",
      "5\n"
     ]
    }
   ],
   "source": [
    "list_1 = [1,2,3,4,5]\n",
    "\n",
    "for x in list_1:\n",
    "    print (x)"
   ]
  },
  {
   "cell_type": "code",
   "execution_count": 135,
   "id": "96347c13-4a29-4e37-92c2-c985dc81f879",
   "metadata": {},
   "outputs": [
    {
     "data": {
      "text/plain": [
       "2"
      ]
     },
     "execution_count": 135,
     "metadata": {},
     "output_type": "execute_result"
    }
   ],
   "source": [
    "list_1[1]"
   ]
  },
  {
   "cell_type": "code",
   "execution_count": 141,
   "id": "b8de2b9b-d14c-4513-94c6-d21785824073",
   "metadata": {},
   "outputs": [
    {
     "name": "stdout",
     "output_type": "stream",
     "text": [
      "['Apple', 'Banana', 'Coconut', ['Durian', 'Eggplant']]\n",
      "<class 'list'>\n",
      "Apple <class 'str'>\n",
      "Banana <class 'str'>\n",
      "Coconut <class 'str'>\n",
      "['Durian', 'Eggplant'] <class 'list'>\n"
     ]
    }
   ],
   "source": [
    "fruits = [\"Apple\", \"Banana\", \"Coconut\", [\"Durian\", \"Eggplant\"]]\n",
    "print (fruits)\n",
    "print (type(fruits))\n",
    "\n",
    "#iterate through this list\n",
    "for f in fruits:\n",
    "    print (f, type (f))"
   ]
  },
  {
   "cell_type": "code",
   "execution_count": 143,
   "id": "fcdd6d79-c976-4fe2-ac1e-1ecd3a4cd63b",
   "metadata": {},
   "outputs": [
    {
     "name": "stdout",
     "output_type": "stream",
     "text": [
      "(index): Apple <class 'str'>\n",
      "(index): Banana <class 'str'>\n",
      "(index): Coconut <class 'str'>\n",
      "(index): ['Durian', 'Eggplant'] <class 'list'>\n"
     ]
    }
   ],
   "source": [
    "for index, f in enumerate (fruits):\n",
    "    print (f\"(index): {f} {type(f)}\")"
   ]
  },
  {
   "cell_type": "code",
   "execution_count": 164,
   "id": "bf041b77-d44c-428d-b52c-882f48da9e57",
   "metadata": {},
   "outputs": [
    {
     "name": "stdout",
     "output_type": "stream",
     "text": [
      "Apple\n",
      "Banana\n"
     ]
    }
   ],
   "source": [
    "f = iter(fruits)\n",
    "print(next(f))\n",
    "print(next(f))"
   ]
  },
  {
   "cell_type": "code",
   "execution_count": 167,
   "id": "01dd5d2e-0960-421e-8a16-c10d014f41b6",
   "metadata": {},
   "outputs": [
    {
     "name": "stdout",
     "output_type": "stream",
     "text": [
      "Apple\n",
      "Banana\n",
      "Coconut\n",
      "['Durian', 'Eggplant']\n"
     ]
    }
   ],
   "source": [
    "f = iter (fruits)\n",
    "while True:\n",
    "    try:\n",
    "        print (next(f))\n",
    "    except:\n",
    "        break"
   ]
  },
  {
   "cell_type": "code",
   "execution_count": 178,
   "id": "6bbe82cb-4965-4ce3-bc98-90e24a79f3c7",
   "metadata": {},
   "outputs": [
    {
     "name": "stdout",
     "output_type": "stream",
     "text": [
      "1\n",
      "2\n",
      "3\n",
      "4\n",
      "5\n",
      "6\n",
      "7\n",
      "8\n",
      "9\n",
      "10\n"
     ]
    }
   ],
   "source": [
    "class myCounter:\n",
    "    def __init__ (self, min, max):\n",
    "        self.current = min\n",
    "        self.high = max\n",
    "    \n",
    "    def __iter__ (self):\n",
    "        return self\n",
    "\n",
    "    def __next__ (self):\n",
    "        if self.current > self.high:\n",
    "            raise StopIteration\n",
    "        else:\n",
    "            self.current +=1\n",
    "            return self.current -1\n",
    "\n",
    "counter = myCounter (1,10)\n",
    "\n",
    "for c in counter:\n",
    "    print (c)"
   ]
  },
  {
   "cell_type": "code",
   "execution_count": 187,
   "id": "94855192-643d-4662-b221-75cc5f3afbdc",
   "metadata": {},
   "outputs": [
    {
     "name": "stdout",
     "output_type": "stream",
     "text": [
      "0\n",
      "1\n",
      "1\n",
      "2\n",
      "3\n",
      "5\n",
      "8\n",
      "13\n",
      "21\n",
      "34\n",
      "55\n",
      "89\n"
     ]
    }
   ],
   "source": [
    "def fibo(n):\n",
    "    a,b = 0,1\n",
    "    for i in range(n):\n",
    "        if a > n:\n",
    "            break\n",
    "        print (a)\n",
    "        a,b = b,a+b\n",
    "\n",
    "fibo(100)"
   ]
  },
  {
   "cell_type": "code",
   "execution_count": 207,
   "id": "fa483638-b69a-4077-9408-b69b62265f40",
   "metadata": {},
   "outputs": [
    {
     "name": "stdout",
     "output_type": "stream",
     "text": [
      "[0, 1, 1, 2, 3, 5, 8, 13, 21]\n"
     ]
    }
   ],
   "source": [
    "class Fibo:\n",
    "\n",
    "    def __init__ (self, max):\n",
    "        self.max = max\n",
    "        self.a = 0\n",
    "        self.b = 1\n",
    "\n",
    "    def __iter__ (self):\n",
    "        return self\n",
    "\n",
    "    def __next__ (self):\n",
    "        fib = self.a\n",
    "        if fib > self.max:\n",
    "            raise StopIteration\n",
    "        else:\n",
    "            self.a,self.b = self.b,self.a + self.b\n",
    "            return fib\n",
    "\n",
    "a = Fibo (30)\n",
    "\n",
    "print(list(a))"
   ]
  },
  {
   "cell_type": "code",
   "execution_count": 213,
   "id": "066ce0fd-bc3a-467f-9ed1-c1611c85f244",
   "metadata": {},
   "outputs": [
    {
     "name": "stdout",
     "output_type": "stream",
     "text": [
      "Cupcake Donut Eclair Froyo Gingerbread Honeycomb Ice Cream Sandwich Jelly Bean KitKat Lollipop Marshmallow "
     ]
    }
   ],
   "source": [
    "def goodies():\n",
    "    yield \"Cupcake\"\n",
    "    yield \"Donut\"\n",
    "    yield \"Eclair\"\n",
    "    yield \"Froyo\"\n",
    "    yield \"Gingerbread\"\n",
    "    yield \"Honeycomb\"\n",
    "    yield \"Ice Cream Sandwich\"\n",
    "    yield \"Jelly Bean\"\n",
    "    yield \"KitKat\"\n",
    "    yield \"Lollipop\"\n",
    "    yield \"Marshmallow\"\n",
    "\n",
    "for g in goodies():\n",
    "    print(g, end=\" \")\n"
   ]
  },
  {
   "cell_type": "code",
   "execution_count": 217,
   "id": "95bfbae2-28f5-441f-a9d6-92c042c36dfc",
   "metadata": {},
   "outputs": [
    {
     "name": "stdout",
     "output_type": "stream",
     "text": [
      "0 1 1 2 3 5 8 "
     ]
    }
   ],
   "source": [
    "def fib(max):\n",
    "    a, b = 0, 1\n",
    "    while a < max:\n",
    "        yield a\n",
    "        a, b = b, a + b\n",
    "    \n",
    "for i in fib(10):\n",
    "    print (i, end=\" \")"
   ]
  },
  {
   "cell_type": "code",
   "execution_count": 223,
   "id": "cb713913-2b45-4144-b8dd-b6fcd7a052c1",
   "metadata": {},
   "outputs": [
    {
     "name": "stdin",
     "output_type": "stream",
     "text": [
      "Input please! 10\n"
     ]
    },
    {
     "name": "stdout",
     "output_type": "stream",
     "text": [
      "[0, 1, 1, 2, 3, 5, 8]\n"
     ]
    }
   ],
   "source": [
    "# iterator using list\n",
    "def fibo2(n):\n",
    "    result = []\n",
    "    a,b = 0,1\n",
    "    while True:\n",
    "        if a>n:\n",
    "            break\n",
    "        result.append(a)\n",
    "        a,b = b,a+b\n",
    "    print (result)\n",
    "\n",
    "\n",
    "fibo2(int(input(\"Input please!\")))"
   ]
  },
  {
   "cell_type": "code",
   "execution_count": 249,
   "id": "28ee3396-00b2-4245-b934-76b1a1947166",
   "metadata": {},
   "outputs": [
    {
     "name": "stdin",
     "output_type": "stream",
     "text": [
      "Which city's weather would you like to check? Beijing\n"
     ]
    },
    {
     "name": "stdout",
     "output_type": "stream",
     "text": [
      "The temperature in Beijing is 27.94 deg C and it feels like 28.05 deg C\n"
     ]
    }
   ],
   "source": [
    "import json\n",
    "from urllib.request import urlopen\n",
    "\n",
    "apikey = \"192bcca44ede9f34bee3da2de9585803\"\n",
    "\n",
    "def get_weather(city):\n",
    "    sock = urlopen(f\"http://api.openweathermap.org/data/2.5/weather?q={city}&appid={apikey}&units=metric\")\n",
    "    result = sock.read()\n",
    "    sock.close()\n",
    "    weather = json.loads(result)\n",
    "    temperature = weather [\"main\"][\"temp\"]\n",
    "    feels_like = weather [\"main\"][\"feels_like\"]\n",
    "\n",
    "    return temperature, feels_like\n",
    "\n",
    "invalid = False\n",
    "user_city = input(\"Which city's weather would you like to check?\")\n",
    "try:\n",
    "    temperature_found, feels_like_temp = get_weather(user_city)\n",
    "except:\n",
    "    invalid = True\n",
    "if invalid:\n",
    "    print (\"Invalid city, please try again\")\n",
    "else:\n",
    "    print(f\"The temperature in {user_city} is {temperature_found:.2f} deg C and it feels like {feels_like_temp:.2f} deg C\")"
   ]
  },
  {
   "cell_type": "code",
   "execution_count": 264,
   "id": "d294e3f1-e871-44fe-9d19-a65252adf686",
   "metadata": {},
   "outputs": [
    {
     "name": "stdin",
     "output_type": "stream",
     "text": [
      "Which Postal Code to check for address?  536972\n"
     ]
    },
    {
     "name": "stdout",
     "output_type": "stream",
     "text": [
      "Addresses found:\n",
      "68 LORONG 1 REALTY PARK PEOPLE'S GARDEN SINGAPORE 536972\n"
     ]
    }
   ],
   "source": [
    "# to seach through multiple pages of the url\n",
    "from urllib.request import urlopen\n",
    "import json\n",
    "\n",
    "def get_result(query, page_num=1):\n",
    "    # Open the URL with the query parameters\n",
    "    with urlopen(f\"https://www.onemap.gov.sg/api/common/elastic/search?searchVal={query}&returnGeom=Y&getAddrDetails=Y&pageNum={page_num}\") as response:\n",
    "        # Read and decode the result\n",
    "        result = response.read().decode('utf-8')\n",
    "\n",
    "    # Parse the JSON response\n",
    "    address_data = json.loads(result)\n",
    "\n",
    "    return address_data\n",
    "\n",
    "# Get user input for the postal code\n",
    "user_query = input(\"Which Postal Code to check for address? \")\n",
    "all_addresses = []\n",
    "page_num = 1\n",
    "\n",
    "while True:\n",
    "    # Fetch the result for the current page\n",
    "    result = get_result(user_query, page_num)\n",
    "\n",
    "    # Check if there are any results\n",
    "    if 'results' in result and len(result['results']) > 0:\n",
    "        # Append all addresses from the current page to the list\n",
    "        for item in result['results']:\n",
    "            all_addresses.append(item['ADDRESS'])\n",
    "        # Increment the page number for the next iteration\n",
    "        page_num += 1\n",
    "    else:\n",
    "        # No more results, break the loop\n",
    "        break\n",
    "\n",
    "if all_addresses:\n",
    "    print(\"Addresses found:\")\n",
    "    for address in all_addresses:\n",
    "        print(address)\n",
    "else:\n",
    "    print(\"No addresses found for the given postal code.\")"
   ]
  },
  {
   "cell_type": "code",
   "execution_count": 294,
   "id": "7e7cc421-4f21-4571-81cb-ed6faba13c46",
   "metadata": {},
   "outputs": [],
   "source": [
    "def module1_function1():\n",
    "    print(\"module1_function1\")\n",
    "def module1_function2():\n",
    "    print(\"module1_function2\")\n"
   ]
  },
  {
   "cell_type": "code",
   "execution_count": 268,
   "id": "6f5a63c8-c906-4110-9265-d19a9564c8b3",
   "metadata": {},
   "outputs": [
    {
     "name": "stdout",
     "output_type": "stream",
     "text": [
      "Overwriting module2.py\n"
     ]
    }
   ],
   "source": [
    "%%writefile module2.py\n",
    "\n",
    "def module2_function1():\n",
    "print(\"module2_function1\")\n",
    "def module2_function2():\n",
    "print(\"module2_function2\")\n"
   ]
  },
  {
   "cell_type": "code",
   "execution_count": 282,
   "id": "2235ba98-8cab-4b81-9577-1e4783f00871",
   "metadata": {},
   "outputs": [
    {
     "name": "stdout",
     "output_type": "stream",
     "text": [
      "Overwriting __init__.py\n"
     ]
    }
   ],
   "source": [
    "%%writefile __init__.py\n",
    "\n",
    "from mypackage.module1 import *\n",
    "from mypackage.module2 import *\n"
   ]
  },
  {
   "cell_type": "code",
   "execution_count": 295,
   "id": "d9ea3335-2ba7-4256-9d77-dfe687de276d",
   "metadata": {},
   "outputs": [
    {
     "name": "stdout",
     "output_type": "stream",
     "text": [
      "Overwriting usemypackage.py\n"
     ]
    }
   ],
   "source": [
    "%%writefile usemypackage.py\n",
    "\n",
    "import mypackage.module1\n",
    "import mypackage.module2\n",
    "mypackage.module1_function1() # module1_function1\n",
    "mypackage.module1_function2() # module1_function2\n",
    "mypackage.module2_function1() # module2_function1\n",
    "mypackage.module2_function2() # module2_function2"
   ]
  },
  {
   "cell_type": "code",
   "execution_count": 296,
   "id": "569d0fc1-6705-424b-988a-2d1e821c7382",
   "metadata": {},
   "outputs": [
    {
     "data": {
      "text/plain": [
       "<function __main__.module1_function1()>"
      ]
     },
     "execution_count": 296,
     "metadata": {},
     "output_type": "execute_result"
    }
   ],
   "source": [
    "module1_function1"
   ]
  }
 ],
 "metadata": {
  "kernelspec": {
   "display_name": "Python 3 (ipykernel)",
   "language": "python",
   "name": "python3"
  },
  "language_info": {
   "codemirror_mode": {
    "name": "ipython",
    "version": 3
   },
   "file_extension": ".py",
   "mimetype": "text/x-python",
   "name": "python",
   "nbconvert_exporter": "python",
   "pygments_lexer": "ipython3",
   "version": "3.11.7"
  }
 },
 "nbformat": 4,
 "nbformat_minor": 5
}
